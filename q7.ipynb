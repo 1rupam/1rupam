{
 "cells": [
  {
   "cell_type": "code",
   "execution_count": 1,
   "metadata": {},
   "outputs": [],
   "source": [
    "from bs4 import BeautifulSoup\n",
    "import requests\n",
    "from openpyxl import Workbook\n"
   ]
  },
  {
   "cell_type": "code",
   "execution_count": 10,
   "metadata": {},
   "outputs": [],
   "source": [
    "#Get the Data\n",
    "Page = requests.get('https://www.digit.in/top-products/best-gaming-laptops-40.html').text"
   ]
  },
  {
   "cell_type": "code",
   "execution_count": 11,
   "metadata": {},
   "outputs": [],
   "source": [
    "#load data in BS4\n",
    "soup = BeautifulSoup(Page, 'html.parser')\n",
    "wb = Workbook()\n",
    "ws = wb.active"
   ]
  },
  {
   "cell_type": "code",
   "execution_count": 20,
   "metadata": {},
   "outputs": [
    {
     "name": "stdout",
     "output_type": "stream",
     "text": [
      "\n",
      "\n",
      "\n",
      "Product Name\n",
      "Seller\n",
      "Price\n",
      "\n",
      "\n",
      "Alienware Area 51M R2\n",
      "N/A\n",
      "\n",
      "N/A\n",
      "\n",
      "\n",
      "\n",
      "Alienware m15 R3\n",
      "N/A\n",
      "\n",
      "₹341990\n",
      "\n",
      "\n",
      "\n",
      "ASUS ROG Strix Scar 15\n",
      "N/A\n",
      "\n",
      "N/A\n",
      "\n",
      "\n",
      "\n",
      "Asus ROG Zephyrus G14\n",
      "amazon\n",
      "\n",
      "₹164990\n",
      "\n",
      "\n",
      "\n",
      "Lenovo Legion 5i\n",
      "N/A\n",
      "\n",
      "₹71990\n",
      "\n",
      "\n",
      "\n",
      "ASUS ROG ZEPHYRUS DUO 15\n",
      "amazon\n",
      "\n",
      "₹199990\n",
      "\n",
      "\n",
      "\n",
      "Acer Aspire 7 gaming\n",
      "N/A\n",
      "\n",
      "₹56990\n",
      "\n",
      "\n",
      "\n",
      "\n"
     ]
    }
   ],
   "source": [
    "#LOCATING THE TABLE\n",
    "Laptop=soup.find(id='summtable')\n",
    "print(Laptop.text)"
   ]
  },
  {
   "cell_type": "code",
   "execution_count": 13,
   "metadata": {},
   "outputs": [
    {
     "name": "stdout",
     "output_type": "stream",
     "text": [
      "[[<table id=\"summtable\">\n",
      "<tbody>\n",
      "<tr>\n",
      "<th>Product Name</th>\n",
      "<th>Seller</th>\n",
      "<th>Price</th>\n",
      "</tr>\n",
      "<tr>\n",
      "<td>Alienware Area 51M R2</td>\n",
      "<td class=\"smmerchant\">N/A</td>\n",
      "<td class=\"smprice\">\n",
      "N/A\n",
      "</td>\n",
      "</tr>\n",
      "<tr>\n",
      "<td>Alienware m15 R3</td>\n",
      "<td class=\"smmerchant\">N/A</td>\n",
      "<td class=\"smprice\">\n",
      "₹341990\n",
      "</td>\n",
      "</tr>\n",
      "<tr>\n",
      "<td>ASUS ROG Strix Scar 15</td>\n",
      "<td class=\"smmerchant\">N/A</td>\n",
      "<td class=\"smprice\">\n",
      "N/A\n",
      "</td>\n",
      "</tr>\n",
      "<tr>\n",
      "<td>Asus ROG Zephyrus G14</td>\n",
      "<td class=\"smmerchant\">amazon</td>\n",
      "<td class=\"smprice\">\n",
      "₹164990\n",
      "</td>\n",
      "</tr>\n",
      "<tr>\n",
      "<td>Lenovo Legion 5i</td>\n",
      "<td class=\"smmerchant\">N/A</td>\n",
      "<td class=\"smprice\">\n",
      "₹71990\n",
      "</td>\n",
      "</tr>\n",
      "<tr>\n",
      "<td>ASUS ROG ZEPHYRUS DUO 15</td>\n",
      "<td class=\"smmerchant\">amazon</td>\n",
      "<td class=\"smprice\">\n",
      "₹199990\n",
      "</td>\n",
      "</tr>\n",
      "<tr>\n",
      "<td>Acer Aspire 7 gaming</td>\n",
      "<td class=\"smmerchant\">N/A</td>\n",
      "<td class=\"smprice\">\n",
      "₹56990\n",
      "</td>\n",
      "</tr>\n",
      "</tbody>\n",
      "</table>]]\n"
     ]
    }
   ],
   "source": []
  },
  {
   "cell_type": "code",
   "execution_count": null,
   "metadata": {},
   "outputs": [],
   "source": []
  }
 ],
 "metadata": {
  "kernelspec": {
   "display_name": "Python 3",
   "language": "python",
   "name": "python3"
  },
  "language_info": {
   "codemirror_mode": {
    "name": "ipython",
    "version": 3
   },
   "file_extension": ".py",
   "mimetype": "text/x-python",
   "name": "python",
   "nbconvert_exporter": "python",
   "pygments_lexer": "ipython3",
   "version": "3.8.5"
  }
 },
 "nbformat": 4,
 "nbformat_minor": 4
}
